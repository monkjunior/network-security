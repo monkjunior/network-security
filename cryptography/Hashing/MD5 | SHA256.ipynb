{
 "cells": [
  {
   "cell_type": "markdown",
   "metadata": {},
   "source": [
    "# Hashing is not encryption\n",
    "\n",
    "*https://stackoverflow.com/questions/4948322/fundamental-difference-between-hashing-and-encryption-algorithms*\n",
    "\n",
    "**Hashing is many:1 mapping**\n",
    "\n",
    "**Output length is fixed length so hashing can have many collisions if input length is bigger then output length.**"
   ]
  },
  {
   "cell_type": "markdown",
   "metadata": {},
   "source": [
    "**Cryptographic hashes** are used in day-day life like in **digital signatures**, **message authentication codes**, **manipulation detection**, **fingerprints**, **checksums (message integrity check)**, **hash tables**, **password storage** and much more. They are also used in sending messages over network for security or storing messages in databases."
   ]
  },
  {
   "cell_type": "markdown",
   "metadata": {},
   "source": [
    "# There are many hash functions defined in the **hashlib** library in python."
   ]
  },
  {
   "cell_type": "code",
   "execution_count": 1,
   "metadata": {},
   "outputs": [
    {
     "data": {
      "text/plain": [
       "['__all__',\n",
       " '__builtin_constructor_cache',\n",
       " '__builtins__',\n",
       " '__cached__',\n",
       " '__doc__',\n",
       " '__file__',\n",
       " '__get_builtin_constructor',\n",
       " '__loader__',\n",
       " '__name__',\n",
       " '__package__',\n",
       " '__spec__',\n",
       " '_hashlib',\n",
       " 'algorithms_available',\n",
       " 'algorithms_guaranteed',\n",
       " 'blake2b',\n",
       " 'blake2s',\n",
       " 'md5',\n",
       " 'new',\n",
       " 'pbkdf2_hmac',\n",
       " 'scrypt',\n",
       " 'sha1',\n",
       " 'sha224',\n",
       " 'sha256',\n",
       " 'sha384',\n",
       " 'sha3_224',\n",
       " 'sha3_256',\n",
       " 'sha3_384',\n",
       " 'sha3_512',\n",
       " 'sha512',\n",
       " 'shake_128',\n",
       " 'shake_256']"
      ]
     },
     "execution_count": 1,
     "metadata": {},
     "output_type": "execute_result"
    }
   ],
   "source": [
    "# Python 3 code to demonstrate the  \n",
    "# working of MD5 (string - hexadecimal) \n",
    "  \n",
    "import hashlib \n",
    "\n",
    "dir(hashlib)"
   ]
  },
  {
   "cell_type": "code",
   "execution_count": 4,
   "metadata": {},
   "outputs": [
    {
     "name": "stdout",
     "output_type": "stream",
     "text": [
      "The hexadecimal value of hash degest : 32b2860d32687891325a8478440e2233\n",
      "The length of hash degest is : 32 hexadecimals charaters\n",
      "The length of hash degest is : 128 bits\n"
     ]
    }
   ],
   "source": [
    "# MD5\n",
    "# initializing string \n",
    "str = \"VuNgocSon\"\n",
    "  \n",
    "# encoding str using encode() \n",
    "# then sending to md5() \n",
    "result = hashlib.md5(str.encode()) \n",
    "  \n",
    "# printing the equivalent hexadecimal value. \n",
    "print(f\"The hexadecimal value of hash degest : {result.hexdigest()}\")\n",
    "print(f\"The length of hash degest is : {len(result.hexdigest())} hexadecimals charaters\")\n",
    "print(f\"The length of hash degest is : {len(result.hexdigest())*4} bits\")"
   ]
  },
  {
   "cell_type": "code",
   "execution_count": 6,
   "metadata": {},
   "outputs": [
    {
     "name": "stdout",
     "output_type": "stream",
     "text": [
      "The hexadecimal value of hash degest : 873f152618ce30e636869e825210eeedb2a0a2410150b8439f690d491a617f69\n",
      "The length of hash degest is : 64 hexadecimals charaters\n",
      "The length of hash degest is : 256 bits\n"
     ]
    }
   ],
   "source": [
    "# SHA256\n",
    "# initializing string \n",
    "str = \"VuNgocSon\"\n",
    "  \n",
    "# encoding str using encode() \n",
    "# then sending to md5() \n",
    "result = hashlib.sha256(str.encode()) \n",
    "  \n",
    "# printing the equivalent hexadecimal value. \n",
    "print(f\"The hexadecimal value of hash degest : {result.hexdigest()}\")\n",
    "print(f\"The length of hash degest is : {len(result.hexdigest())} hexadecimals charaters\")\n",
    "print(f\"The length of hash degest is : {len(result.hexdigest())*4} bits\")"
   ]
  },
  {
   "cell_type": "code",
   "execution_count": null,
   "metadata": {},
   "outputs": [],
   "source": []
  }
 ],
 "metadata": {
  "kernelspec": {
   "display_name": "Python 3",
   "language": "python",
   "name": "python3"
  },
  "language_info": {
   "codemirror_mode": {
    "name": "ipython",
    "version": 3
   },
   "file_extension": ".py",
   "mimetype": "text/x-python",
   "name": "python",
   "nbconvert_exporter": "python",
   "pygments_lexer": "ipython3",
   "version": "3.7.3"
  }
 },
 "nbformat": 4,
 "nbformat_minor": 2
}
